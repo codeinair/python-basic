{
 "cells": [
  {
   "cell_type": "markdown",
   "metadata": {},
   "source": [
    "# System check commands"
   ]
  },
  {
   "cell_type": "markdown",
   "metadata": {},
   "source": [
    "### Get the platform of your machine."
   ]
  },
  {
   "cell_type": "code",
   "execution_count": null,
   "metadata": {},
   "outputs": [],
   "source": [
    "import sys\n",
    "print(sys.platform)"
   ]
  },
  {
   "cell_type": "markdown",
   "metadata": {},
   "source": [
    "### Get Anaconda version details."
   ]
  },
  {
   "cell_type": "code",
   "execution_count": null,
   "metadata": {},
   "outputs": [],
   "source": [
    "print (version)"
   ]
  },
  {
   "cell_type": "markdown",
   "metadata": {},
   "source": [
    "### The version of the Python could be checked with the below command as well."
   ]
  },
  {
   "cell_type": "code",
   "execution_count": null,
   "metadata": {},
   "outputs": [],
   "source": [
    "print(\"Python version:\", sys.version_info)"
   ]
  },
  {
   "cell_type": "markdown",
   "metadata": {},
   "source": [
    "### This prints the system path.\n",
    "This shows the location of installed packages and libraries. It is good to understand this as this helps in debugging installations if it gets corrupt."
   ]
  },
  {
   "cell_type": "code",
   "execution_count": null,
   "metadata": {},
   "outputs": [],
   "source": [
    "print(sys.path)"
   ]
  },
  {
   "cell_type": "markdown",
   "metadata": {},
   "source": [
    "### This print out all the Python packages installed along with the installation of Anaconda. \n",
    "A specific package could be searched using the find command (Ctrl + F in Windows) in the browser.The installed packages (modules) could be fetched inside of Jupyter notebook"
   ]
  },
  {
   "cell_type": "code",
   "execution_count": null,
   "metadata": {},
   "outputs": [],
   "source": [
    "help(\"modules\")"
   ]
  },
  {
   "cell_type": "markdown",
   "metadata": {},
   "source": [
    "### Enter any module name to get more help."
   ]
  },
  {
   "cell_type": "code",
   "execution_count": null,
   "metadata": {},
   "outputs": [],
   "source": [
    "help(\"modules numpy\")"
   ]
  },
  {
   "cell_type": "markdown",
   "metadata": {},
   "source": [
    "### Check if a package is installed. \n",
    "The below command could be run in anaconda command prompt to check for ‘matplotlib’ package."
   ]
  },
  {
   "cell_type": "code",
   "execution_count": null,
   "metadata": {},
   "outputs": [],
   "source": [
    "conda list matplotlib"
   ]
  },
  {
   "cell_type": "markdown",
   "metadata": {},
   "source": [
    "### Packages could be found in link below. A package could be searched by its name in the search.\n",
    "https://anaconda.org/\n",
    "\n",
    "1) Check if a package is installed. The below command could be run in anaconda command prompt to check for ‘matplotlib’ package.\n",
    "\n",
    "conda list matplotlib\n",
    "\n",
    "2) matplotlib – Once the package is found it, it could be installed from the Anaconda command prompt. The ‘conda-forge’ is the channel where the package is found. Select package that are available in public domain.\n",
    "\n",
    "conda install -c conda-forge matplotlib\n",
    "\n",
    "3) Package could be updated from Anaconda Command Prompt.\n",
    "Example: ‘matplotlib’ could be updated as below.\n",
    "\n",
    "conda update matplotlib --no-pin\n",
    "\n",
    "Some packages are pinned packages, meaning to say, it is a particular version that came along with the installation e.g. 1.7.\n",
    "If ‘--no-pin’ are is not provided then conda update will revert it back to 1.7 and not the latest version.\n",
    "Remove package"
   ]
  },
  {
   "cell_type": "markdown",
   "metadata": {},
   "source": [
    "### Package could be removed from Anaconda Command Prompt.\n",
    "Example: ‘matplotlib’ could be removed as below.\n",
    "\n",
    "conda remove matplotlib"
   ]
  }
 ],
 "metadata": {
  "kernelspec": {
   "display_name": "Python 3",
   "language": "python",
   "name": "python3"
  },
  "language_info": {
   "codemirror_mode": {
    "name": "ipython",
    "version": 3
   },
   "file_extension": ".py",
   "mimetype": "text/x-python",
   "name": "python",
   "nbconvert_exporter": "python",
   "pygments_lexer": "ipython3",
   "version": "3.7.4"
  }
 },
 "nbformat": 4,
 "nbformat_minor": 2
}
