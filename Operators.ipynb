{
 "cells": [
  {
   "cell_type": "code",
   "execution_count": 10,
   "metadata": {},
   "outputs": [
    {
     "data": {
      "text/plain": [
       "2.0"
      ]
     },
     "execution_count": 10,
     "metadata": {},
     "output_type": "execute_result"
    }
   ],
   "source": [
    "# Arithmetic Operators \n",
    "x = 5.8\n",
    "y= 2\n",
    "\n",
    "# Addition\n",
    "x+y\n",
    "\n",
    "# Substraction\n",
    "x-y\n",
    "\n",
    "# Multiplication\n",
    "x*y\n",
    "\n",
    "# Division\n",
    "x/y\n",
    "\n",
    "# Modulus\n",
    "x%y\n",
    "\n",
    "# Exponentiation\n",
    "x**y\n",
    "\n",
    "# Floor Division\n",
    "#the floor division // rounds the result \"down\" to the nearest whole number \n",
    "x//y\n",
    "\n"
   ]
  },
  {
   "cell_type": "code",
   "execution_count": 19,
   "metadata": {},
   "outputs": [],
   "source": [
    "# Assignment Operators\n"
   ]
  },
  {
   "cell_type": "code",
   "execution_count": null,
   "metadata": {},
   "outputs": [],
   "source": [
    "# Comparison Operators"
   ]
  },
  {
   "cell_type": "code",
   "execution_count": 20,
   "metadata": {},
   "outputs": [],
   "source": [
    "# Logical Operators"
   ]
  },
  {
   "cell_type": "code",
   "execution_count": 48,
   "metadata": {},
   "outputs": [
    {
     "name": "stdout",
     "output_type": "stream",
     "text": [
      "True\n",
      "False\n",
      "True\n",
      "1685220832\n",
      "1685220832\n",
      "True\n",
      "1908574091952\n",
      "1908574091784\n",
      "False\n",
      "True\n"
     ]
    }
   ],
   "source": [
    "# Indentity Operator\n",
    "x = [\"apple\", \"banana\"]\n",
    "y = [\"apple\", \"banana\"]\n",
    "z = x\n",
    "\n",
    "# IS\n",
    "print(x is z)\n",
    "# returns True because z is the same object as x\n",
    "\n",
    "print(x is y)\n",
    "# returns False because x is not the same object as y, even if they have the same content\n",
    "\n",
    "print(x == y)\n",
    "# to demonstrate the difference betweeen \"is\" and \"==\": this comparison returns True because x is equal to y\n",
    "\n",
    "# same memory location for int and string\n",
    "ab = 1\n",
    "cd = 1\n",
    "print(id(ab))\n",
    "print(id(cd))\n",
    "print(ab is cd)\n",
    "\n",
    "# different memory location\n",
    "ab = 1.0\n",
    "cd = 1.0\n",
    "print(id(ab))\n",
    "print(id(cd))\n",
    "print(ab is cd)\n",
    "\n",
    "# IS NOT\n",
    "print(x is not y)"
   ]
  },
  {
   "cell_type": "code",
   "execution_count": null,
   "metadata": {},
   "outputs": [],
   "source": [
    "# Membership Operator\n",
    "x= \"apple\"\n",
    "y = [\"apple\", \"banana\"]\n",
    "print (x in y)\n",
    "print (x not in y)"
   ]
  }
 ],
 "metadata": {
  "kernelspec": {
   "display_name": "Python 3",
   "language": "python",
   "name": "python3"
  },
  "language_info": {
   "codemirror_mode": {
    "name": "ipython",
    "version": 3
   },
   "file_extension": ".py",
   "mimetype": "text/x-python",
   "name": "python",
   "nbconvert_exporter": "python",
   "pygments_lexer": "ipython3",
   "version": "3.6.4"
  }
 },
 "nbformat": 4,
 "nbformat_minor": 2
}
