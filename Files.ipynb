{
 "nbformat": 4,
 "nbformat_minor": 2,
 "metadata": {
  "language_info": {
   "name": "python",
   "codemirror_mode": {
    "name": "ipython",
    "version": 3
   },
   "version": "3.7.4"
  },
  "orig_nbformat": 2,
  "file_extension": ".py",
  "mimetype": "text/x-python",
  "name": "python",
  "npconvert_exporter": "python",
  "pygments_lexer": "ipython3",
  "version": 3
 },
 "cells": [
  {
   "cell_type": "markdown",
   "metadata": {},
   "outputs": [],
   "source": [
    "File Handling"
   ]
  },
  {
   "cell_type": "code",
   "execution_count": 15,
   "metadata": {},
   "outputs": [
    {
     "name": "stdout",
     "output_type": "stream",
     "text": "Overwriting c:\\\\Users\\\\aasangam\\\\Python\\\\Practice\\\\File write sample.txt\n"
    }
   ],
   "source": [
    "%%writefile \"c:\\\\Users\\\\aasangam\\\\Python\\\\Practice\\\\File write sample.txt\"\n",
    "The content in this file is created from a pyhton code\n",
    "The content will later be read and appended using python code again"
   ]
  },
  {
   "cell_type": "code",
   "execution_count": 16,
   "metadata": {},
   "outputs": [
    {
     "data": {
      "text/plain": "'c:\\\\Users\\\\aasangam\\\\Python'"
     },
     "execution_count": 16,
     "metadata": {},
     "output_type": "execute_result"
    }
   ],
   "source": [
    "pwd"
   ]
  },
  {
   "cell_type": "code",
   "execution_count": 17,
   "metadata": {},
   "outputs": [
    {
     "name": "stdout",
     "output_type": "stream",
     "text": "The content in this file is created from a pyhton code\nThe content will later be read and appended using python code again\n\n"
    }
   ],
   "source": [
    "filehandler = open(\"c:\\\\Users\\\\aasangam\\\\Python\\\\Practice\\\\File write sample.txt\")\n",
    "print(filehandler.read())"
   ]
  },
  {
   "cell_type": "code",
   "execution_count": 18,
   "metadata": {},
   "outputs": [],
   "source": [
    "filehandler.close()"
   ]
  },
  {
   "cell_type": "code",
   "execution_count": 19,
   "metadata": {},
   "outputs": [],
   "source": [
    "with open(\"c:\\\\Users\\\\aasangam\\\\Python\\\\Practice\\\\File write sample.txt\", mode=\"a\") as filehandler:\n",
    "    filehandler.write(\"Content added by a python code\")\n",
    "    "
   ]
  },
  {
   "cell_type": "code",
   "execution_count": 20,
   "metadata": {},
   "outputs": [
    {
     "name": "stdout",
     "output_type": "stream",
     "text": "The content in this file is created from a pyhton code\nThe content will later be read and appended using python code again\nContent added by a python code\n"
    }
   ],
   "source": [
    "with open(\"c:\\\\Users\\\\aasangam\\\\Python\\\\Practice\\\\File write sample.txt\",mode=\"r\") as filehandler:\n",
    "    print(filehandler.read())"
   ]
  },
  {
   "cell_type": "code",
   "metadata": {},
   "outputs": [],
   "source": []
  }
 ]
}