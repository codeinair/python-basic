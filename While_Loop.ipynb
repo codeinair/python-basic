{
 "cells": [
  {
   "cell_type": "code",
   "execution_count": 1,
   "metadata": {},
   "outputs": [
    {
     "name": "stdout",
     "output_type": "stream",
     "text": "4\n"
    }
   ],
   "source": [
    "# While Loop\n",
    "a=[1,2,3,4,5,6,7,8,9]\n",
    "key = 5\n",
    "found= False\n",
    "position = 0\n",
    "\n",
    "while not found and position < len(a):\n",
    "    if key == a[position]:\n",
    "        found = True\n",
    "        break\n",
    "    position =position + 1\n",
    "if found:\n",
    "    print(position)\n",
    "else:\n",
    "    print(position)"
   ]
  },
  {
   "cell_type": "code",
   "execution_count": null,
   "metadata": {},
   "outputs": [],
   "source": []
  }
 ],
 "metadata": {},
 "nbformat": 4,
 "nbformat_minor": 2
}