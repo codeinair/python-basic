{
 "cells": [
  {
   "cell_type": "code",
   "execution_count": null,
   "metadata": {},
   "outputs": [],
   "source": [
    "\"\"\" String functions \"\"\"\n",
    "# expand tabs\n",
    "tab = 'H\\n\\tE\\n\\t\\tL\\n\\t\\t\\tL\\n\\t\\t\\t\\tO'\n",
    "print(tab.expandtabs(2))"
   ]
  },
  {
   "cell_type": "code",
   "execution_count": null,
   "metadata": {},
   "outputs": [],
   "source": [
    "# find\n",
    "findstr = 'Hello World!'\n",
    "print(findstr.find('W'))"
   ]
  },
  {
   "cell_type": "code",
   "execution_count": null,
   "metadata": {},
   "outputs": [],
   "source": [
    "# format\n",
    "txt = \"For only {price:.2f} dollars!\"\n",
    "print(txt.format(price = 49))\n",
    "txt = \"For only {0} dollars!\"\n",
    "print(txt.format(49))\n",
    "txt = \"For only {price} dollars!\"\n",
    "print(txt.format(price = 49))"
   ]
  },
  {
   "cell_type": "code",
   "execution_count": null,
   "metadata": {},
   "outputs": [],
   "source": [
    "# format \n",
    "point = {'x':4,'y':-5}\n",
    "print('{x} {y}'.format(**point))"
   ]
  },
  {
   "cell_type": "code",
   "execution_count": null,
   "metadata": {},
   "outputs": [],
   "source": [
    "# format map\n",
    "profession = { 'name':['Barry', 'Bruce'], \n",
    "               'profession':['Engineer', 'Doctor'], \n",
    "               'age':[30, 31] } \n",
    "                       \n",
    "# Use of format_map() function  \n",
    "print('{name[0]} is an {profession[0]} and he'\n",
    "      ' is {age[0]} years old.'.format_map(profession)) \n",
    "        \n",
    "print('{name[1]} is an {profession[1]} and he'\n",
    "      ' is {age[1]} years old.'.format_map(profession))"
   ]
  },
  {
   "cell_type": "code",
   "execution_count": null,
   "metadata": {},
   "outputs": [],
   "source": [
    "# index\n",
    "txt = \"Hello, welcome to my world.\"\n",
    "x = txt.index(\"welcome\")\n",
    "# x = txt.index(\"w1elcome\")\n",
    "\n",
    "print(x)"
   ]
  },
  {
   "cell_type": "code",
   "execution_count": null,
   "metadata": {},
   "outputs": [],
   "source": [
    "# is Alphabet-number\n",
    "print(\"Company12\".isalnum())\n",
    "# is Alphabet\n",
    "print(\"Company\".isalpha())\n",
    "# is decimal\n",
    "print(\"\\u0030\".isdecimal()) #unicode for 0\n",
    "print(\"\\u0047\".isdecimal()) #unicode for G\n",
    "# is Digit\n",
    "print(\"58000\".isdigit())\n",
    "# is identifier\n",
    "print(\"MyFolder_as\".isidentifier())\n",
    "print(\"2myFolders\".isidentifier())\n",
    "print(\"#MyFolders\".isidentifier())\n",
    "# is lower\n",
    "print(\"myfolders12##$\".islower())\n",
    "# is numeric\n",
    "print(\"231\".isnumeric())\n",
    "# is printable\n",
    "print(\"Hello! Are you #1?\".isprintable())\n",
    "print(\"Hello! \\n Are you #1?\".isprintable())\n",
    "# is space\n",
    "print(\"   \".isspace())\n",
    "\n",
    "\n"
   ]
  },
  {
   "cell_type": "code",
   "execution_count": null,
   "metadata": {},
   "outputs": [],
   "source": [
    "# maketrans\n",
    "# Python3 code to demostrate \n",
    "# translations using \n",
    "# maketrans() and translate() \n",
    "\n",
    "# specify to translate chars \n",
    "str1 = \"pani\"\n",
    "\n",
    "# specify to to replace with \n",
    "str2 = \"gola\"\n",
    "\n",
    "# delete chars \n",
    "str3 = \"a\"\n",
    "\n",
    "# target string \n",
    "trg = \"i love panipuri\"\n",
    "\n",
    "# using maketrans() to \n",
    "# construct translate \n",
    "# table \n",
    "table = trg.maketrans(str1, str2, str3) \n",
    "\n",
    "# Printing original string \n",
    "print (\"The string before translating is : \", end =\"\") \n",
    "print (trg) \n",
    "\n",
    "# table\n",
    "print (table) \n",
    "\n",
    "# using translate() to make translations. \n",
    "print (\"The string after translating is : \", end =\"\") \n",
    "print (trg.translate(table)) \n"
   ]
  },
  {
   "cell_type": "code",
   "execution_count": null,
   "metadata": {},
   "outputs": [],
   "source": [
    "txt = \"hello, my name is Peter, I am 26 years old\"\n",
    "\n",
    "x = txt.rsplit(\", \",5)\n",
    "\n",
    "print(x)"
   ]
  },
  {
   "cell_type": "code",
   "execution_count": null,
   "metadata": {},
   "outputs": [],
   "source": [
    "# splitlines\n",
    "txt = \"Thank you for the music\\nWelcome to the jungle\"\n",
    "\n",
    "x = txt.splitlines(True)\n",
    "\n",
    "print(x)"
   ]
  },
  {
   "cell_type": "code",
   "execution_count": null,
   "metadata": {},
   "outputs": [],
   "source": [
    "a = \"1000\"\n",
    "b = \"1566000\"\n",
    "c = \"10\"\n",
    "\n",
    "print(a.zfill(10))\n",
    "print(b.zfill(10))\n",
    "print(c.zfill(10))"
   ]
  },
  {
   "cell_type": "code",
   "execution_count": null,
   "metadata": {},
   "outputs": [],
   "source": [
    "x = int(\"45r\")\n",
    "print(type(x))\n",
    "print(x)"
   ]
  },
  {
   "cell_type": "code",
   "execution_count": null,
   "metadata": {},
   "outputs": [],
   "source": [
    "class myclass():\n",
    "  x=5\n",
    "  def __len__(self):\n",
    "    return 4\n",
    "\n",
    "xyz= ['akash', 'uma']\n",
    "\n",
    "myobj = myclass()\n",
    "print(len(xyz))\n",
    "print(len(myobj))\n",
    "print(bool(myobj))"
   ]
  },
  {
   "cell_type": "code",
   "execution_count": null,
   "metadata": {},
   "outputs": [],
   "source": [
    "class myclass():\n",
    "    x=[]\n",
    "    y=-5\n",
    "    def __len__(self):\n",
    "        return bool(self.y<0)\n",
    "\n",
    "myobj = myclass()\n",
    "print(bool(myobj))"
   ]
  },
  {
   "cell_type": "code",
   "execution_count": null,
   "metadata": {},
   "outputs": [],
   "source": []
  }
 ],
 "metadata": {
  "kernelspec": {
   "display_name": "Python 3",
   "language": "python",
   "name": "python3"
  },
  "language_info": {
   "codemirror_mode": {
    "name": "ipython",
    "version": 3
   },
   "file_extension": ".py",
   "mimetype": "text/x-python",
   "name": "python",
   "nbconvert_exporter": "python",
   "pygments_lexer": "ipython3",
   "version": "3.7.4"
  }
 },
 "nbformat": 4,
 "nbformat_minor": 2
}
