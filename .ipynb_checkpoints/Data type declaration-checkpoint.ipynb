{
 "cells": [
  {
   "cell_type": "code",
   "execution_count": 2,
   "metadata": {},
   "outputs": [
    {
     "name": "stdout",
     "output_type": "stream",
     "text": [
      "some string\n"
     ]
    }
   ],
   "source": [
    "\"\"\" Data types declaration in Python \"\"\"\n",
    "# Text Type\n",
    "txt1 = 'hello world'\n",
    "txt2 = str('hello world')\n",
    "\n",
    "# Numbers Type\n",
    "num1 = int(1)\n",
    "num2 = 1\n",
    "fnum1 = 10.10\n",
    "fnum2 = float(10.10)\n",
    "complexnum1 = 5+3j\n",
    "complexnum1 = complex(5+3j)\n",
    "\n",
    "# Sequence Type\n",
    "tList = [\"apple\", 'banana', 'watermelon']\n",
    "t2List = list((\"apple\", 'banana', 'watermelon'))\n",
    "tTuple = (\"apple\", 'banana', 'watermelon')\n",
    "t2Tuple = tuple((\"apple\", 'banana', 'watermelon'))\n",
    "tRange = range(2,6)\n",
    "\n",
    "# Mapping Type\n",
    "keyvalue = {\"name\": \"akash\", \"age\": 27, \"name\" : \"raj\"}\n",
    "keyvalue2 = dict(name = \"akash\", number = 2.6, sal = 10)\n",
    "\n",
    "# Set Type\n",
    "set1 = {\"akash\", \"raj\", \"ashok\", \"akash\"}\n",
    "set2 = set((\"akash\", \"raj\", \"ashok\"))\n",
    "frozenset1 = frozenset({\"akash\", \"raj\", \"ashok\"})\n",
    "frozenset2 = frozenset((\"akash\", \"raj\", \"ashok\"))\n",
    "\n",
    "# Boolean\n",
    "bool1 = True\n",
    "bool2 = bool(False)\n",
    "\n",
    "# Binary type\n",
    "bytes1 = b\"House\"\n",
    "bytes2 = bytes(b\"house\")\n",
    "bytesarray1 = bytearray(b\"akash\")\n",
    "memoryview1 = memoryview(bytes(b\"akash\"))\n",
    "memoryview2 = memoryview(bytes(5))"
   ]
  },
  {
   "cell_type": "code",
   "execution_count": 79,
   "metadata": {},
   "outputs": [
    {
     "name": "stdout",
     "output_type": "stream",
     "text": [
      "1.0\n",
      "2\n",
      "(1+0j)\n",
      "<class 'float'>\n",
      "<class 'int'>\n",
      "<class 'complex'>\n"
     ]
    }
   ],
   "source": [
    "\"\"\" Number Type Casting \"\"\"\n",
    "x = 1 # int\n",
    "y = 2.8 # float\n",
    "z = 1j # complex\n",
    "\n",
    "#convert from int to float:\n",
    "a = float(x)\n",
    "\n",
    "#convert from float to int:\n",
    "b = int(y)\n",
    "\n",
    "#convert from int to complex:\n",
    "c = complex(x)\n",
    "\n",
    "print(a)\n",
    "print(b)\n",
    "print(c)\n",
    "\n",
    "print(type(a))\n",
    "print(type(b))\n",
    "print(type(c))"
   ]
  },
  {
   "cell_type": "code",
   "execution_count": 102,
   "metadata": {
    "scrolled": false
   },
   "outputs": [
    {
     "name": "stdout",
     "output_type": "stream",
     "text": [
      "-95\n"
     ]
    }
   ],
   "source": [
    "# Random \n",
    "import random as r\n",
    "somenumber = r.randrange(-100, 100)\n",
    "print(somenumber)"
   ]
  },
  {
   "cell_type": "code",
   "execution_count": 126,
   "metadata": {
    "scrolled": true
   },
   "outputs": [
    {
     "name": "stdout",
     "output_type": "stream",
     "text": [
      "13\n"
     ]
    }
   ],
   "source": [
    "a = \"Hello, World!\"\n",
    "print(len(a))"
   ]
  },
  {
   "cell_type": "code",
   "execution_count": 129,
   "metadata": {},
   "outputs": [
    {
     "name": "stdout",
     "output_type": "stream",
     "text": [
      "Jello, WorJld!\n"
     ]
    }
   ],
   "source": [
    "a = \"Hello, WorHld!\"\n",
    "print(a.replace(\"H\", \"J\"))"
   ]
  },
  {
   "cell_type": "code",
   "execution_count": 130,
   "metadata": {},
   "outputs": [
    {
     "name": "stdout",
     "output_type": "stream",
     "text": [
      "True\n"
     ]
    }
   ],
   "source": [
    "txt = \"The rain in Spain stays mainly in the plain\"\n",
    "x = \"ain\" in txt\n",
    "print(x)"
   ]
  },
  {
   "cell_type": "code",
   "execution_count": 131,
   "metadata": {},
   "outputs": [
    {
     "name": "stdout",
     "output_type": "stream",
     "text": [
      "False\n"
     ]
    }
   ],
   "source": [
    "txt = \"The rain in Spain stays mainly in the plain\"\n",
    "x = \"ain\" not in txt\n",
    "print(x)"
   ]
  },
  {
   "cell_type": "code",
   "execution_count": 138,
   "metadata": {
    "scrolled": true
   },
   "outputs": [
    {
     "name": "stdout",
     "output_type": "stream",
     "text": [
      "My name is Jenny, and I am 36 28 36\n"
     ]
    }
   ],
   "source": [
    "age = 36\n",
    "txt = \"My name is Jenny, and I am {} {} {}\"\n",
    "print(txt.format(age, 28, age))"
   ]
  },
  {
   "cell_type": "code",
   "execution_count": 7,
   "metadata": {},
   "outputs": [
    {
     "name": "stdout",
     "output_type": "stream",
     "text": [
      "                                                I want to pay {2} dollars for {0} pieces of item {1}.                                                 \n"
     ]
    }
   ],
   "source": [
    "quantity = 3\n",
    "itemno = 567\n",
    "price = 49.95\n",
    "myorder = \"I want to pay {2} dollars for {0} pieces of item {1}.\"\n",
    "print(myorder.center(150))"
   ]
  },
  {
   "cell_type": "code",
   "execution_count": 153,
   "metadata": {},
   "outputs": [
    {
     "name": "stdout",
     "output_type": "stream",
     "text": [
      "uubananauu\n"
     ]
    }
   ],
   "source": [
    "txt = \"banana\"\n",
    "\n",
    "x = txt.center(10,\"u\")\n",
    "\n",
    "print(x)"
   ]
  },
  {
   "cell_type": "code",
   "execution_count": null,
   "metadata": {},
   "outputs": [],
   "source": [
    "# Type check\n",
    "x = 200\n",
    "print(isinstance(x, int))"
   ]
  }
 ],
 "metadata": {
  "kernelspec": {
   "display_name": "Python 3",
   "language": "python",
   "name": "python3"
  },
  "language_info": {
   "codemirror_mode": {
    "name": "ipython",
    "version": 3
   },
   "file_extension": ".py",
   "mimetype": "text/x-python",
   "name": "python",
   "nbconvert_exporter": "python",
   "pygments_lexer": "ipython3",
   "version": "3.7.4"
  }
 },
 "nbformat": 4,
 "nbformat_minor": 2
}
