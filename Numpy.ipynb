{
 "nbformat": 4,
 "nbformat_minor": 2,
 "metadata": {
  "language_info": {
   "name": "python",
   "codemirror_mode": {
    "name": "ipython",
    "version": 3
   },
   "version": "3.7.4"
  },
  "orig_nbformat": 2,
  "file_extension": ".py",
  "mimetype": "text/x-python",
  "name": "python",
  "npconvert_exporter": "python",
  "pygments_lexer": "ipython3",
  "version": 3
 },
 "cells": [
  {
   "cell_type": "markdown",
   "execution_count": null,
   "metadata": {},
   "outputs": [],
   "source": [
    "Numpy"
   ]
  },
  {
   "cell_type": "code",
   "execution_count": 1,
   "metadata": {},
   "outputs": [],
   "source": [
    "import numpy as np"
   ]
  },
  {
   "cell_type": "code",
   "execution_count": 8,
   "metadata": {},
   "outputs": [],
   "source": [
    "x = np.arange(8)\n",
    "print(x)"
   ]
  },
  {
   "cell_type": "code",
   "execution_count": 11,
   "metadata": {},
   "outputs": [
    {
     "name": "stdout",
     "output_type": "stream",
     "text": "[[0 1]\n [2 3]\n [4 5]\n [6 7]]\n"
    }
   ],
   "source": [
    "x = x.reshape(4,2)\n",
    "print(x)"
   ]
  },
  {
   "cell_type": "code",
   "execution_count": 13,
   "metadata": {},
   "outputs": [
    {
     "name": "stdout",
     "output_type": "stream",
     "text": "[[0 1 2]\n [3 4 5]\n [6 7 8]]\n"
    }
   ],
   "source": [
    "# Declaring a matrix in Numpy as list\n",
    "x= np.array([[0,1,2], [3,4,5],[6,7,8]])\n",
    "print(x)"
   ]
  },
  {
   "cell_type": "code",
   "execution_count": 20,
   "metadata": {},
   "outputs": [
    {
     "name": "stdout",
     "output_type": "stream",
     "text": "[[0 1 2]\n [3 4 5]\n [6 7 8]]\n"
    }
   ],
   "source": [
    "# Reading from a csv file\n",
    "x = np.genfromtxt(\"D:\\\\Personal\\\\Study\\\\Bits Pilani\\\\Git\\\\python-basic-1\\\\Matrix_Sample.csv\",delimiter = \",\", dtype=\"int8\")\n",
    "print(x)"
   ]
  },
  {
   "cell_type": "code",
   "execution_count": 21,
   "metadata": {},
   "outputs": [
    {
     "name": "stdout",
     "output_type": "stream",
     "text": "[[0. 0. 0.]\n [0. 0. 0.]\n [0. 0. 0.]]\n"
    }
   ],
   "source": [
    "# 2D array of zeros\n",
    "a = np.zeros((3,3))\n",
    "print(a)"
   ]
  },
  {
   "cell_type": "code",
   "execution_count": 23,
   "metadata": {},
   "outputs": [
    {
     "name": "stdout",
     "output_type": "stream",
     "text": "(3, 3)\n9\n2\nint8\n1\n"
    }
   ],
   "source": [
    "# Np object properties\n",
    "print(x.shape)\n",
    "print(x.size)\n",
    "print(x.ndim)\n",
    "print(x.dtype)\n",
    "print(x.itemsize)"
   ]
  },
  {
   "cell_type": "code",
   "execution_count": 24,
   "metadata": {},
   "outputs": [
    {
     "name": "stdout",
     "output_type": "stream",
     "text": "int16\n"
    }
   ],
   "source": [
    "# Changing data type of an array\n",
    "x=np.array(x,dtype=\"int16\")\n",
    "print(x.dtype)"
   ]
  },
  {
   "cell_type": "code",
   "execution_count": 25,
   "metadata": {},
   "outputs": [
    {
     "name": "stdout",
     "output_type": "stream",
     "text": "[[99  1  2]\n [ 3  4  5]\n [ 6  7  8]]\n[[99  1  2]\n [ 3  4  5]\n [ 6  7  8]]\n"
    }
   ],
   "source": [
    "# Copy object\n",
    "xCpy = x\n",
    "xCpy[0,0] = 99\n",
    "print(xCpy)\n",
    "print(x)"
   ]
  },
  {
   "cell_type": "code",
   "execution_count": 28,
   "metadata": {},
   "outputs": [
    {
     "name": "stdout",
     "output_type": "stream",
     "text": "[[99  1  2]\n [ 3  4  5]\n [ 6  7  8]]\n[[112   1   2]\n [  3   4   5]\n [  6   7   8]]\n"
    }
   ],
   "source": [
    "# Deep copy array - without reference\n",
    "xCopy = x.copy()\n",
    "xCopy[0][0] = 112\n",
    "print(x)\n",
    "print(xCopy)"
   ]
  },
  {
   "cell_type": "markdown",
   "execution_count": null,
   "metadata": {},
   "outputs": [],
   "source": [
    "Accessing Numpy array"
   ]
  },
  {
   "cell_type": "code",
   "execution_count": 30,
   "metadata": {},
   "outputs": [
    {
     "name": "stdout",
     "output_type": "stream",
     "text": "[[ 0  1  2  3  4]\n [ 5  6  7  8  9]\n [10 11 12 13 14]\n [15 16 17 18 19]\n [20 21 22 23 24]]\n14\n"
    }
   ],
   "source": [
    "x = np.arange(25).reshape(5,5)\n",
    "print(x)\n",
    "# Accessing by row*column \n",
    "print(x[2][4])"
   ]
  },
  {
   "cell_type": "code",
   "execution_count": 31,
   "metadata": {},
   "outputs": [
    {
     "name": "stdout",
     "output_type": "stream",
     "text": "[10 11 12 13 14]\n"
    }
   ],
   "source": [
    "# Accessing all value of a particular row\n",
    "print(x[2,...])"
   ]
  },
  {
   "cell_type": "code",
   "execution_count": 32,
   "metadata": {},
   "outputs": [
    {
     "name": "stdout",
     "output_type": "stream",
     "text": "[ 3  8 13 18 23]\n"
    }
   ],
   "source": [
    "# Accessing all value of a particular column\n",
    "print(x[...,3])"
   ]
  },
  {
   "cell_type": "code",
   "execution_count": 36,
   "metadata": {},
   "outputs": [
    {
     "name": "stdout",
     "output_type": "stream",
     "text": "[[18 19]\n [23 24]]\n"
    }
   ],
   "source": [
    "# Access subset matrix\n",
    "print(x[3:5,3:5])"
   ]
  },
  {
   "cell_type": "code",
   "execution_count": 37,
   "metadata": {},
   "outputs": [
    {
     "name": "stdout",
     "output_type": "stream",
     "text": "[20 21 22 23 24]\n"
    }
   ],
   "source": [
    "# Access a complete row\n",
    "print(x[4])"
   ]
  },
  {
   "cell_type": "markdown",
   "execution_count": null,
   "metadata": {},
   "outputs": [],
   "source": [
    "Algebra"
   ]
  },
  {
   "cell_type": "code",
   "execution_count": 54,
   "metadata": {},
   "outputs": [
    {
     "name": "stdout",
     "output_type": "stream",
     "text": "[[0 1 2]\n [3 4 5]\n [6 7 8]]\n[[ 9 10 11]\n [12 13 14]\n [15 16 17]]\n"
    }
   ],
   "source": [
    "x = np.arange(9).reshape(3,3)\n",
    "y = np.arange(9,18).reshape(3,3)\n",
    "print(x)\n",
    "print(y)"
   ]
  },
  {
   "cell_type": "code",
   "execution_count": 42,
   "metadata": {},
   "outputs": [
    {
     "name": "stdout",
     "output_type": "stream",
     "text": "[[ 9 11 13]\n [15 17 19]\n [21 23 25]]\n"
    }
   ],
   "source": [
    "# Addition of matrix\n",
    "z = x + y\n",
    "print(z)"
   ]
  },
  {
   "cell_type": "code",
   "execution_count": 43,
   "metadata": {},
   "outputs": [
    {
     "name": "stdout",
     "output_type": "stream",
     "text": "[[-9 -9 -9]\n [-9 -9 -9]\n [-9 -9 -9]]\n"
    }
   ],
   "source": [
    "# Substraction of matrix\n",
    "z = x - y\n",
    "print(z)"
   ]
  },
  {
   "cell_type": "code",
   "execution_count": 44,
   "metadata": {},
   "outputs": [
    {
     "name": "stdout",
     "output_type": "stream",
     "text": "[[  0  10  22]\n [ 36  52  70]\n [ 90 112 136]]\n"
    }
   ],
   "source": [
    "# Dot product or multiplication of a Matrix\n",
    "z= np.dot(x,y)\n",
    "print(z)"
   ]
  },
  {
   "cell_type": "code",
   "execution_count": 47,
   "metadata": {},
   "outputs": [
    {
     "name": "stdout",
     "output_type": "stream",
     "text": "[[0 1 2]\n [3 4 5]\n [6 7 8]]\n"
    }
   ],
   "source": [
    "# Pseudo-Inverse of Matrix\n",
    "z = np.linalg.pinv(x)\n",
    "print(x)"
   ]
  },
  {
   "cell_type": "code",
   "execution_count": 49,
   "metadata": {},
   "outputs": [
    {
     "name": "stdout",
     "output_type": "stream",
     "text": "[[1. 0. 0.]\n [0. 1. 0.]\n [0. 0. 1.]]\n"
    }
   ],
   "source": [
    "# Identity Matrix\n",
    "z = np.eye(3,3)\n",
    "print(z)"
   ]
  },
  {
   "cell_type": "code",
   "execution_count": 55,
   "metadata": {},
   "outputs": [
    {
     "name": "stdout",
     "output_type": "stream",
     "text": "[ 1.33484692e+01 -1.34846923e+00 -1.15433316e-15]\n"
    }
   ],
   "source": [
    "# Eigen Value\n",
    "z = np.linalg.eigvals(x)\n",
    "print(z)"
   ]
  },
  {
   "cell_type": "code",
   "execution_count": 53,
   "metadata": {},
   "outputs": [
    {
     "name": "stdout",
     "output_type": "stream",
     "text": "[ 2  4  6  8 10 12]\n7.0\n7.0\n3.415650255319866\n11.666666666666666\n"
    }
   ],
   "source": [
    "# Algebra operations\n",
    "s = np.array([2,4,6,8,10,12])\n",
    "print(s)\n",
    "print(np.mean(s))\n",
    "print(np.median(s))\n",
    "print(np.std(s))\n",
    "print(np.var(s))\n"
   ]
  },
  {
   "cell_type": "code",
   "execution_count": null,
   "metadata": {},
   "outputs": [],
   "source": []
  }
 ]
}