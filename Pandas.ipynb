{
 "nbformat": 4,
 "nbformat_minor": 2,
 "metadata": {
  "language_info": {
   "name": "python",
   "codemirror_mode": {
    "name": "ipython",
    "version": 3
   },
   "version": "3.7.4"
  },
  "orig_nbformat": 2,
  "file_extension": ".py",
  "mimetype": "text/x-python",
  "name": "python",
  "npconvert_exporter": "python",
  "pygments_lexer": "ipython3",
  "version": 3
 },
 "cells": [
  {
   "cell_type": "markdown",
   "execution_count": null,
   "metadata": {},
   "outputs": [],
   "source": [
    "Pandas"
   ]
  },
  {
   "cell_type": "code",
   "execution_count": 1,
   "metadata": {},
   "outputs": [],
   "source": [
    "# importing Pandas\n",
    "import pandas as pd"
   ]
  },
  {
   "cell_type": "code",
   "execution_count": 6,
   "metadata": {},
   "outputs": [
    {
     "data": {
      "text/html": "<div>\n<style scoped>\n    .dataframe tbody tr th:only-of-type {\n        vertical-align: middle;\n    }\n\n    .dataframe tbody tr th {\n        vertical-align: top;\n    }\n\n    .dataframe thead th {\n        text-align: right;\n    }\n</style>\n<table border=\"1\" class=\"dataframe\">\n  <thead>\n    <tr style=\"text-align: right;\">\n      <th></th>\n      <th>studId</th>\n      <th>grade</th>\n    </tr>\n  </thead>\n  <tbody>\n    <tr>\n      <td>0</td>\n      <td>001</td>\n      <td>A</td>\n    </tr>\n    <tr>\n      <td>1</td>\n      <td>002</td>\n      <td>C</td>\n    </tr>\n    <tr>\n      <td>2</td>\n      <td>003</td>\n      <td>D+</td>\n    </tr>\n    <tr>\n      <td>3</td>\n      <td>004</td>\n      <td>B+</td>\n    </tr>\n    <tr>\n      <td>4</td>\n      <td>005</td>\n      <td>A+</td>\n    </tr>\n    <tr>\n      <td>5</td>\n      <td>006</td>\n      <td>B+</td>\n    </tr>\n    <tr>\n      <td>6</td>\n      <td>007</td>\n      <td>E</td>\n    </tr>\n    <tr>\n      <td>7</td>\n      <td>008</td>\n      <td>A</td>\n    </tr>\n    <tr>\n      <td>8</td>\n      <td>009</td>\n      <td>F</td>\n    </tr>\n    <tr>\n      <td>9</td>\n      <td>010</td>\n      <td>A+</td>\n    </tr>\n  </tbody>\n</table>\n</div>",
      "text/plain": "  studId grade\n0    001     A\n1    002     C\n2    003    D+\n3    004    B+\n4    005    A+\n5    006    B+\n6    007     E\n7    008     A\n8    009     F\n9    010    A+"
     },
     "execution_count": 6,
     "metadata": {},
     "output_type": "execute_result"
    }
   ],
   "source": [
    "data  = [{\"studId\" : \"001\", \"grade\" : \"A\"}, {\"studId\" : \"002\", \"grade\" : \"C\"}, {\"studId\" : \"003\", \"grade\" : \"D+\"}, {\"studId\" : \"004\", \"grade\" : \"B+\"}, {\"studId\" : \"005\", \"grade\" : \"A+\"}, {\"studId\" : \"006\", \"grade\" : \"B+\"}, {\"studId\" : \"007\", \"grade\" : \"E\"},\n",
    "{\"studId\" : \"008\", \"grade\" : \"A\"}, {\"studId\" : \"009\", \"grade\" : \"F\"}, {\"studId\" : \"010\", \"grade\" : \"A+\"} ]\n",
    "\n",
    "dataFrame = pd.DataFrame(data)\n",
    "dataFrame.head(10)"
   ]
  },
  {
   "cell_type": "code",
   "execution_count": null,
   "metadata": {},
   "outputs": [],
   "source": []
  }
 ]
}